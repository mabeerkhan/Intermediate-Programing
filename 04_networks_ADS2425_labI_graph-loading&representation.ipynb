{
 "cells": [
  {
   "cell_type": "markdown",
   "id": "8d4b8a2b-e3ef-45af-8585-4c750d9dadd8",
   "metadata": {},
   "source": [
    "# 0. Configuration"
   ]
  },
  {
   "cell_type": "code",
   "execution_count": 1,
   "id": "60ace6de-82dd-4d67-9ca7-64e4ba21bd9e",
   "metadata": {},
   "outputs": [],
   "source": [
    "data_dir = 'data/'\n",
    "graph_filename = 'deezer_europe_edges.csv'\n",
    "\n",
    "graph_path = f'{data_dir}/{graph_filename}'\n",
    "sep = ','\n",
    "directed = False\n",
    "header = True"
   ]
  },
  {
   "cell_type": "code",
   "execution_count": 2,
   "id": "f8d41bb8-48b0-4b0e-923c-43880a93d3d3",
   "metadata": {},
   "outputs": [],
   "source": [
    "import time"
   ]
  },
  {
   "cell_type": "markdown",
   "id": "5db756b7-798c-4227-9f61-7096a975fd26",
   "metadata": {},
   "source": [
    "# 1. Graph processing with standard Python functions/data structures"
   ]
  },
  {
   "cell_type": "code",
   "execution_count": 3,
   "id": "bcec1043-e8f2-4227-a814-dc52a132d922",
   "metadata": {},
   "outputs": [],
   "source": [
    "from collections import defaultdict"
   ]
  },
  {
   "cell_type": "markdown",
   "id": "22cc52eb-fb27-4b29-87e6-6e89b0889cde",
   "metadata": {},
   "source": [
    "### Data loading\n",
    "We will load the graph adopting an **adjacency list** representation.\n",
    "\n",
    "Specifically, we will use a **dictionary** where the key is a vertex identifier, and the value is the set of vertex identifiers of all the neighbors of the key vertex."
   ]
  },
  {
   "cell_type": "code",
   "execution_count": 4,
   "id": "5c3fb7b9-df87-4f9e-a736-6f2e73ce0aa7",
   "metadata": {},
   "outputs": [],
   "source": [
    "def load_graph(graph_path,sep,directed,header):\n",
    "    with open(graph_path) as f:\n",
    "        start = 1 if header else 0\n",
    "        vertex2neighbors = defaultdict(set)\n",
    "        for line in f.readlines()[start:]:\n",
    "            tokens = line.split(sep)\n",
    "            vertex1 = int(tokens[0])\n",
    "            vertex2 = int(tokens[1])\n",
    "            vertex2neighbors[vertex1].add(vertex2)\n",
    "            if not directed:\n",
    "                vertex2neighbors[vertex2].add(vertex1) #for undirected graphs, every edge is stored twice; can we do better?\n",
    "    return vertex2neighbors"
   ]
  },
  {
   "cell_type": "code",
   "execution_count": 5,
   "id": "0d402e40-1187-4207-a61d-420083e1aa2e",
   "metadata": {},
   "outputs": [
    {
     "name": "stdout",
     "output_type": "stream",
     "text": [
      "Loading time: 115 ms\n"
     ]
    }
   ],
   "source": [
    "start = time.time()\n",
    "graph = load_graph(graph_path,sep,directed,header)\n",
    "end = time.time()\n",
    "runtime = int(round((end-start)*1000))\n",
    "print(\"Loading time: \" + str(runtime) + \" ms\")"
   ]
  },
  {
   "cell_type": "markdown",
   "id": "a93a5913-837f-4d32-b5ce-b82b2fce217e",
   "metadata": {},
   "source": [
    "### Playing with the graph"
   ]
  },
  {
   "cell_type": "code",
   "execution_count": 6,
   "id": "2b119cae-0b91-43df-b54a-12419a84f215",
   "metadata": {},
   "outputs": [],
   "source": [
    "def number_of_vertices(graph):\n",
    "    return len(graph)\n",
    "\n",
    "def number_of_edges(graph,directed):\n",
    "    denominator = 1 if directed else 2\n",
    "    return sum([len(graph[u]) for u in graph.keys()])/denominator # '/2' is needed for undirected graphs because every edge is stored twice\n",
    "\n",
    "def neighborhood(graph,vertex):\n",
    "    return sorted(list(graph[vertex]))\n",
    "\n",
    "def degree(graph,vertex):\n",
    "    return len(graph[vertex])\n",
    "\n",
    "def min_degree(graph):\n",
    "    return min(degree(graph,u) for u in graph.keys())\n",
    "\n",
    "def max_degree(graph):\n",
    "    return max(degree(graph,u) for u in graph.keys())"
   ]
  },
  {
   "cell_type": "code",
   "execution_count": 7,
   "id": "bb85445f-f0a6-4060-91d9-d64b4953f1a4",
   "metadata": {},
   "outputs": [
    {
     "name": "stdout",
     "output_type": "stream",
     "text": [
      "Number of vertices: 28281\n",
      "Number of edges: 92752\n",
      "Neighborhood of vertex 0: [3001, 12029, 14145, 14270, 14581, 16976, 25564]\n",
      "Degree of vertex 0: 7\n",
      "Minimum degree: 1\n",
      "Maximum degree: 172\n"
     ]
    }
   ],
   "source": [
    "print('Number of vertices: ' + str(number_of_vertices(graph)))\n",
    "print('Number of edges: ' + str(int(number_of_edges(graph,directed))))\n",
    "\n",
    "target_vertex = 0\n",
    "print('Neighborhood of vertex ' + str(target_vertex) + ': ' + str(neighborhood(graph,target_vertex)))\n",
    "print('Degree of vertex ' + str(target_vertex) + ': ' + str(degree(graph,target_vertex)))\n",
    "\n",
    "print('Minimum degree: ' + str(min_degree(graph)))\n",
    "print('Maximum degree: ' + str(max_degree(graph)))"
   ]
  },
  {
   "cell_type": "code",
   "execution_count": 8,
   "id": "614e7af2-5a30-471b-adf5-350fa7ae244d",
   "metadata": {},
   "outputs": [
    {
     "name": "stdout",
     "output_type": "stream",
     "text": [
      "Average degree: 3.279657720731233\n",
      "Edge density: 0.00023194184729358083\n"
     ]
    }
   ],
   "source": [
    "n = number_of_vertices(graph)\n",
    "m = number_of_edges(graph,directed)\n",
    "print('Average degree: ' + str(m/n))\n",
    "\n",
    "all_possible_edges = n*(n-1)/2\n",
    "print('Edge density: ' + str(m/all_possible_edges))"
   ]
  },
  {
   "cell_type": "code",
   "execution_count": 9,
   "id": "07232129-09de-4169-9e91-636656519dbf",
   "metadata": {},
   "outputs": [],
   "source": [
    "def is_a_clique(graph,vertices):\n",
    "    for u in vertices:\n",
    "        for v in vertices:\n",
    "            if u != v and v not in graph[u]:\n",
    "                return False\n",
    "    return True"
   ]
  },
  {
   "cell_type": "code",
   "execution_count": 10,
   "id": "85648047-1483-4e74-b4ff-84b17137fbd6",
   "metadata": {},
   "outputs": [
    {
     "name": "stdout",
     "output_type": "stream",
     "text": [
      "Is vertex set {0, 3001} a clique? True\n",
      "Is vertex set {0, 1} a clique? False\n",
      "Is vertex set {1, 34, 17} a clique? True\n",
      "Is vertex set {1, 34, 17, 5011, 190} a clique? False\n"
     ]
    }
   ],
   "source": [
    "vertex_set1 = {0,3001}\n",
    "vertex_set2 = {0,1}\n",
    "vertex_set3 = {1,17,34}\n",
    "vertex_set4 = {1,17,34,190,5011}\n",
    "\n",
    "print(\"Is vertex set \" + str(vertex_set1) + \" a clique? \" + str(is_a_clique(graph,vertex_set1)))\n",
    "print(\"Is vertex set \" + str(vertex_set2) + \" a clique? \" + str(is_a_clique(graph,vertex_set2)))\n",
    "print(\"Is vertex set \" + str(vertex_set3) + \" a clique? \" + str(is_a_clique(graph,vertex_set3)))\n",
    "print(\"Is vertex set \" + str(vertex_set4) + \" a clique? \" + str(is_a_clique(graph,vertex_set4)))"
   ]
  },
  {
   "cell_type": "markdown",
   "id": "4b26f672-ad12-431c-a58a-8115cf134063",
   "metadata": {},
   "source": [
    "# 2. Graph processing with [`NetworkX`](https://networkx.org/)"
   ]
  },
  {
   "cell_type": "code",
   "execution_count": 11,
   "id": "82d892b9-0dc3-4bf1-abe7-934d821e63fc",
   "metadata": {},
   "outputs": [],
   "source": [
    "import networkx as nx"
   ]
  },
  {
   "cell_type": "markdown",
   "id": "0afb48de-869e-4edb-b60d-264bf34b1381",
   "metadata": {},
   "source": [
    "### Data loading"
   ]
  },
  {
   "cell_type": "code",
   "execution_count": 12,
   "id": "2df2e935-c4aa-4e8a-af6a-7b744c85303e",
   "metadata": {},
   "outputs": [],
   "source": [
    "def load_graph_nx(graph_path,sep,directed,header):\n",
    "    graph_type = nx.DiGraph if directed else nx.Graph\n",
    "    with open(graph_path, 'rb') as f:\n",
    "        if header:\n",
    "            next(f, '') # skip header line\n",
    "        G = nx.read_adjlist(f, delimiter=sep, create_using=graph_type, nodetype=int)\n",
    "    return G"
   ]
  },
  {
   "cell_type": "code",
   "execution_count": 13,
   "id": "11074e24-265f-4d0d-9a24-18783bc3fa06",
   "metadata": {},
   "outputs": [
    {
     "name": "stdout",
     "output_type": "stream",
     "text": [
      "Loading time: 360 ms\n"
     ]
    }
   ],
   "source": [
    "start = time.time()\n",
    "graph_nx = load_graph_nx(graph_path,sep,directed,header)\n",
    "end = time.time()\n",
    "runtime = int(round((end-start)*1000))\n",
    "print(\"Loading time: \" + str(runtime) + \" ms\")"
   ]
  },
  {
   "cell_type": "markdown",
   "id": "aedbe3f2-6aa9-40e1-85d5-a7cee410eaa7",
   "metadata": {},
   "source": [
    "### Playing with the graph"
   ]
  },
  {
   "cell_type": "code",
   "execution_count": 14,
   "id": "7dbfd961-4eb6-4eef-93ed-7b5e22a7246d",
   "metadata": {},
   "outputs": [],
   "source": [
    "def number_of_vertices_nx(graph):\n",
    "    return graph.number_of_nodes()\n",
    "\n",
    "def number_of_edges_nx(graph):\n",
    "    return graph.number_of_edges()\n",
    "\n",
    "def neighborhood_nx(graph,vertex):\n",
    "    return sorted([u for u in graph[vertex]])\n",
    "\n",
    "def degree_nx(graph,vertex):\n",
    "    return graph.degree[vertex]\n",
    "\n",
    "def min_degree_nx(graph):\n",
    "    return min(degree_nx(graph,u) for u in graph.nodes)\n",
    "\n",
    "def max_degree_nx(graph):\n",
    "    return max(degree_nx(graph,u) for u in graph.nodes)"
   ]
  },
  {
   "cell_type": "code",
   "execution_count": 15,
   "id": "a107e74b-8c48-4ad5-b0a4-652f4096f238",
   "metadata": {},
   "outputs": [
    {
     "name": "stdout",
     "output_type": "stream",
     "text": [
      "Number of vertices: 28281\n",
      "Number of edges: 92752\n",
      "Neighborhood of vertex 0: [3001, 12029, 14145, 14270, 14581, 16976, 25564]\n",
      "Degree of vertex 0: 7\n",
      "Minimum degree: 1\n",
      "Maximum degree: 172\n"
     ]
    }
   ],
   "source": [
    "print('Number of vertices: ' + str(number_of_vertices_nx(graph_nx)))\n",
    "print('Number of edges: ' + str(int(number_of_edges_nx(graph_nx))))\n",
    "\n",
    "target_vertex = 0\n",
    "print('Neighborhood of vertex ' + str(target_vertex) + ': ' + str(neighborhood_nx(graph_nx,target_vertex)))\n",
    "print('Degree of vertex ' + str(target_vertex) + ': ' + str(degree_nx(graph_nx,target_vertex)))\n",
    "\n",
    "print('Minimum degree: ' + str(min_degree_nx(graph_nx)))\n",
    "print('Maximum degree: ' + str(max_degree_nx(graph_nx)))"
   ]
  },
  {
   "cell_type": "code",
   "execution_count": 16,
   "id": "9bfe5582-2a7e-4354-bffc-33a75d197d24",
   "metadata": {},
   "outputs": [
    {
     "name": "stdout",
     "output_type": "stream",
     "text": [
      "Local clustering coefficient of vertex 0: 0.14285714285714285\n",
      "Network average clustering coefficient: 0.1411598733316564\n"
     ]
    }
   ],
   "source": [
    "target_vertex = 0\n",
    "c = nx.clustering(graph_nx,target_vertex)\n",
    "print('Local clustering coefficient of vertex ' + str(target_vertex) + ': ' + str(c))\n",
    "\n",
    "avgc = nx.average_clustering(graph_nx)\n",
    "print('Network average clustering coefficient: ' + str(avgc))"
   ]
  },
  {
   "cell_type": "code",
   "execution_count": 17,
   "id": "5e1361ac-3a89-445d-a077-d15ab8618e9b",
   "metadata": {},
   "outputs": [
    {
     "name": "stdout",
     "output_type": "stream",
     "text": [
      "Is the graph connected? True\n",
      "Number of connected components: 1\n"
     ]
    }
   ],
   "source": [
    "print('Is the graph connected? ' + str(nx.is_connected(graph_nx)))\n",
    "print('Number of connected components: ' + str(nx.number_connected_components(graph_nx)))"
   ]
  },
  {
   "cell_type": "code",
   "execution_count": 18,
   "id": "0da64f4a-e812-4d33-94e7-41dd8fe63b77",
   "metadata": {},
   "outputs": [
    {
     "name": "stdout",
     "output_type": "stream",
     "text": [
      "Eccentricity of vertex 0: 15\n"
     ]
    }
   ],
   "source": [
    "target_vertex = 0\n",
    "print('Eccentricity of vertex ' + str(target_vertex) + ': ' + str(nx.eccentricity(graph_nx,v=target_vertex)))\n",
    "#print('Diameter: ' + str(nx.diameter(graph_nx))) # BE CAREFUL: this may be very slow even for moderately large graphs\n",
    "#print('Radius: ' + str(nx.radius(graph_nx))) # BE CAREFUL: this may be very slow even for moderately large graphs"
   ]
  },
  {
   "cell_type": "code",
   "execution_count": 19,
   "id": "0609dc65-d78a-41d0-9a0b-d3235218473a",
   "metadata": {},
   "outputs": [
    {
     "name": "stdout",
     "output_type": "stream",
     "text": [
      "Shortest path between vertex 0 and vertex 12300: [0, 14270, 6131, 7361, 2832, 18679, 12300]\n"
     ]
    }
   ],
   "source": [
    "target_vertex1 = 0\n",
    "target_vertex2 = 12300\n",
    "print('Shortest path between vertex ' + str(target_vertex1) + ' and vertex ' + str(target_vertex2) + ': ' + str(nx.shortest_path(graph_nx,source=target_vertex1,target=target_vertex2)))"
   ]
  },
  {
   "cell_type": "code",
   "execution_count": null,
   "id": "cbfcab49-b058-44e7-b0d9-f290c53dc02b",
   "metadata": {},
   "outputs": [],
   "source": []
  }
 ],
 "metadata": {
  "kernelspec": {
   "display_name": "Python 3 (ipykernel)",
   "language": "python",
   "name": "python3"
  },
  "language_info": {
   "codemirror_mode": {
    "name": "ipython",
    "version": 3
   },
   "file_extension": ".py",
   "mimetype": "text/x-python",
   "name": "python",
   "nbconvert_exporter": "python",
   "pygments_lexer": "ipython3",
   "version": "3.12.8"
  }
 },
 "nbformat": 4,
 "nbformat_minor": 5
}
