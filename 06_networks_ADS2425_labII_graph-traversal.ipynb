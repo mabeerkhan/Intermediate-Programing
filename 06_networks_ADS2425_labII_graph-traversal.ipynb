{
 "cells": [
  {
   "cell_type": "markdown",
   "id": "8d4b8a2b-e3ef-45af-8585-4c750d9dadd8",
   "metadata": {},
   "source": [
    "# 0. Configuration"
   ]
  },
  {
   "cell_type": "code",
   "execution_count": 1,
   "id": "60ace6de-82dd-4d67-9ca7-64e4ba21bd9e",
   "metadata": {},
   "outputs": [],
   "source": [
    "data_dir = 'data/'\n",
    "graph_filename = 'deezer_europe_edges.csv'\n",
    "\n",
    "graph_path = f'{data_dir}/{graph_filename}'\n",
    "sep = ','\n",
    "directed = False\n",
    "header = True"
   ]
  },
  {
   "cell_type": "code",
   "execution_count": 2,
   "id": "f8d41bb8-48b0-4b0e-923c-43880a93d3d3",
   "metadata": {},
   "outputs": [],
   "source": [
    "import time"
   ]
  },
  {
   "cell_type": "markdown",
   "id": "5db756b7-798c-4227-9f61-7096a975fd26",
   "metadata": {},
   "source": [
    "# 1. Implementation of graph-traversal algorithms from scratch"
   ]
  },
  {
   "cell_type": "code",
   "execution_count": 3,
   "id": "bcec1043-e8f2-4227-a814-dc52a132d922",
   "metadata": {},
   "outputs": [],
   "source": [
    "from collections import defaultdict, deque"
   ]
  },
  {
   "cell_type": "markdown",
   "id": "22cc52eb-fb27-4b29-87e6-6e89b0889cde",
   "metadata": {},
   "source": [
    "### 1.1 Data loading\n",
    "We will load the graph adopting an **adjacency list** representation.\n",
    "\n",
    "Specifically, we will use a **dictionary** where the key is a vertex identifier, and the value is the set of vertex identifiers of all the neighbors of the key vertex."
   ]
  },
  {
   "cell_type": "code",
   "execution_count": 4,
   "id": "5c3fb7b9-df87-4f9e-a736-6f2e73ce0aa7",
   "metadata": {},
   "outputs": [],
   "source": [
    "def load_graph(graph_path,sep,directed,header):\n",
    "    with open(graph_path) as f:\n",
    "        start = 1 if header else 0\n",
    "        vertex2neighbors = defaultdict(set)\n",
    "        for line in f.readlines()[start:]:\n",
    "            tokens = line.split(sep)\n",
    "            vertex1 = int(tokens[0])\n",
    "            vertex2 = int(tokens[1])\n",
    "            vertex2neighbors[vertex1].add(vertex2)\n",
    "            if not directed:\n",
    "                vertex2neighbors[vertex2].add(vertex1) #for undirected graphs, every edge is stored twice; can we do better?\n",
    "    return vertex2neighbors"
   ]
  },
  {
   "cell_type": "code",
   "execution_count": 5,
   "id": "0d402e40-1187-4207-a61d-420083e1aa2e",
   "metadata": {},
   "outputs": [
    {
     "name": "stdout",
     "output_type": "stream",
     "text": [
      "Loading time: 110 ms\n"
     ]
    }
   ],
   "source": [
    "start = time.time()\n",
    "graph = load_graph(graph_path,sep,directed,header)\n",
    "end = time.time()\n",
    "runtime = int(round((end-start)*1000))\n",
    "print(\"Loading time: \" + str(runtime) + \" ms\")"
   ]
  },
  {
   "cell_type": "markdown",
   "id": "5bad20be-52c5-4875-8653-d4bda091a467",
   "metadata": {},
   "source": [
    "### 1.2 Auxiliary functions"
   ]
  },
  {
   "cell_type": "code",
   "execution_count": 6,
   "id": "794e5fa0-3b16-40e6-b01e-bad5f8e8234a",
   "metadata": {},
   "outputs": [],
   "source": [
    "def number_of_vertices(graph):\n",
    "    return len(graph)\n",
    "\n",
    "def number_of_edges(graph,directed):\n",
    "    denominator = 1 if directed else 2\n",
    "    return sum([len(graph[u]) for u in graph.keys()])/denominator # '/2' is needed for undirected graphs because every edge is stored twice\n",
    "\n",
    "def neighborhood(graph,vertex):\n",
    "    return graph[vertex]"
   ]
  },
  {
   "attachments": {},
   "cell_type": "markdown",
   "id": "d535d2e3-00c7-40d6-8e04-0a8905854a30",
   "metadata": {},
   "source": [
    "### 1.3 Breadth-first search (BFS)\n",
    "<img src=\"./img/pseudocode_bfs.png\" align=\"left\" width=\"70%\"/>"
   ]
  },
  {
   "cell_type": "code",
   "execution_count": 7,
   "id": "5044a8ac-6d90-487b-91db-b570d036068c",
   "metadata": {},
   "outputs": [],
   "source": [
    "def bfs(graph, source):\n",
    "    visited = {source} # Python set \n",
    "    L = [source] # Python list\n",
    "    Q = deque([source]) # queue implemented as a 'deque' class from the 'collections' Python built-in module\n",
    "    while Q:\n",
    "        currently_selected = Q.popleft() # 'dequeue' operation\n",
    "        for u in neighborhood(graph,currently_selected):\n",
    "            if u not in visited:\n",
    "                visited.add(u)\n",
    "                L.append(u)\n",
    "                Q.append(u) # 'enqueue' operation\n",
    "    return L"
   ]
  },
  {
   "cell_type": "markdown",
   "id": "caf7fd7b-4cb8-4609-84e8-db21eae72323",
   "metadata": {},
   "source": [
    "#### 1.3.1 BFS on 'deezer_europe' dataset"
   ]
  },
  {
   "cell_type": "code",
   "execution_count": 8,
   "id": "3c44dcf2-3c17-44e4-8dee-46645e6ae00d",
   "metadata": {},
   "outputs": [
    {
     "name": "stdout",
     "output_type": "stream",
     "text": [
      "BFS time: 35 ms\n"
     ]
    },
    {
     "data": {
      "text/plain": [
       "(28281, 28281)"
      ]
     },
     "execution_count": 8,
     "metadata": {},
     "output_type": "execute_result"
    }
   ],
   "source": [
    "source = 0\n",
    "\n",
    "start = time.time()\n",
    "L = bfs(graph,source)\n",
    "end = time.time()\n",
    "runtime = int(round((end-start)*1000))\n",
    "print(\"BFS time: \" + str(runtime) + \" ms\")\n",
    "\n",
    "len(L), number_of_vertices(graph) # sanity check"
   ]
  },
  {
   "cell_type": "markdown",
   "id": "1deb3d0b-2a65-4ce3-9472-96613973b5cb",
   "metadata": {},
   "source": [
    "#### 1.3.2 BFS on 'toy' dataset\n",
    "<img src=\"./img/toy.png\" align=\"left\" width=\"35%\"/>"
   ]
  },
  {
   "cell_type": "code",
   "execution_count": 9,
   "id": "1ef6b76a-b269-4427-b7c5-69416a4756ac",
   "metadata": {},
   "outputs": [
    {
     "name": "stdout",
     "output_type": "stream",
     "text": [
      "BFS from source vertex 0: [0, 1, 2, 3, 7, 4, 5, 6]\n",
      "BFS from source vertex 3: [3, 1, 2, 4, 5, 0, 7, 6]\n",
      "BFS from source vertex 7: [7, 2, 4, 0, 1, 3, 5, 6]\n"
     ]
    }
   ],
   "source": [
    "graph_filename_toy = 'toy.csv'\n",
    "graph_path_toy = f'{data_dir}/{graph_filename_toy}'\n",
    "graph_toy = load_graph(graph_path_toy,sep,directed,header)\n",
    "L0 = bfs(graph_toy,0)\n",
    "L3 = bfs(graph_toy,3)\n",
    "L7 = bfs(graph_toy,7)\n",
    "print(\"BFS from source vertex 0: \" + str(L0)) #0 1 2 3 7 4 5 6\n",
    "print(\"BFS from source vertex 3: \" + str(L3)) #3 1 2 4 5 0 7 6\n",
    "print(\"BFS from source vertex 7: \" + str(L7)) #7 2 4 0 1 3 5 6"
   ]
  },
  {
   "cell_type": "markdown",
   "id": "fb175195-bfa9-4cb5-855c-1b4efdfaf148",
   "metadata": {},
   "source": [
    "### 1.4 Depth-first Search\n",
    "<img src=\"./img/pseudocode_dfs.png\" align=\"left\" width=\"70%\"/>"
   ]
  },
  {
   "cell_type": "code",
   "execution_count": 10,
   "id": "9b1c0a22-6202-4daf-aa15-ae733f1fa962",
   "metadata": {},
   "outputs": [],
   "source": [
    "def dfs(graph, source):\n",
    "    visited = set()\n",
    "    L = []\n",
    "    S = deque([source])\n",
    "    while S:\n",
    "        currently_selected = S.pop()\n",
    "        if currently_selected not in visited:\n",
    "            visited.add(currently_selected)\n",
    "            L.append(currently_selected)\n",
    "            for u in neighborhood(graph,currently_selected):\n",
    "                if u not in visited:\n",
    "                    S.append(u)\n",
    "    return L"
   ]
  },
  {
   "cell_type": "markdown",
   "id": "bc813eaa-31f4-4343-b444-fbafeb18864b",
   "metadata": {},
   "source": [
    "#### 1.4.1 DFS on 'deezer_europe' dataset"
   ]
  },
  {
   "cell_type": "code",
   "execution_count": 11,
   "id": "3bdd03f5-63a7-4515-8fdf-785d57da0b85",
   "metadata": {},
   "outputs": [
    {
     "name": "stdout",
     "output_type": "stream",
     "text": [
      "DFS time: 56 ms\n"
     ]
    },
    {
     "data": {
      "text/plain": [
       "(28281, 28281)"
      ]
     },
     "execution_count": 11,
     "metadata": {},
     "output_type": "execute_result"
    }
   ],
   "source": [
    "source = 0\n",
    "\n",
    "start = time.time()\n",
    "L = dfs(graph,source)\n",
    "end = time.time()\n",
    "runtime = int(round((end-start)*1000))\n",
    "print(\"DFS time: \" + str(runtime) + \" ms\")\n",
    "\n",
    "len(L), number_of_vertices(graph) # sanity check"
   ]
  },
  {
   "cell_type": "markdown",
   "id": "a1072f34-a20f-453b-859f-b3c224a84e58",
   "metadata": {},
   "source": [
    "#### 1.4.2 DFS on 'toy' dataset\n",
    "<img src=\"./img/toy.png\" align=\"left\" width=\"35%\"/>"
   ]
  },
  {
   "cell_type": "code",
   "execution_count": 12,
   "id": "238fa547-648b-42ed-b231-57a6a8ac6140",
   "metadata": {},
   "outputs": [
    {
     "name": "stdout",
     "output_type": "stream",
     "text": [
      "DFS from source vertex 0: [0, 2, 7, 4, 6, 5, 3, 1]\n",
      "DFS from source vertex 3: [3, 5, 6, 4, 7, 2, 1, 0]\n",
      "DFS from source vertex 7: [7, 4, 6, 5, 3, 2, 1, 0]\n"
     ]
    }
   ],
   "source": [
    "graph_filename_toy = 'toy.csv'\n",
    "graph_path_toy = f'{data_dir}/{graph_filename_toy}'\n",
    "graph_toy = load_graph(graph_path_toy,sep,directed,header)\n",
    "L0 = dfs(graph_toy,0)\n",
    "L3 = dfs(graph_toy,3)\n",
    "L7 = dfs(graph_toy,7)\n",
    "print(\"DFS from source vertex 0: \" + str(L0)) #0 2 7 4 6 5 3 1\n",
    "print(\"DFS from source vertex 3: \" + str(L3)) #3 5 6 4 7 2 1 0\n",
    "print(\"DFS from source vertex 7: \" + str(L7)) #7 4 6 5 3 2 1 0"
   ]
  },
  {
   "cell_type": "markdown",
   "id": "d5407f41-1827-4719-aaa7-ab4c79d11171",
   "metadata": {},
   "source": [
    "### 1.5 Connected components"
   ]
  },
  {
   "cell_type": "code",
   "execution_count": 13,
   "id": "5746c346-0d27-4bb8-a085-fca305725cb7",
   "metadata": {},
   "outputs": [],
   "source": [
    "def connected_components(graph,visit):\n",
    "    remaining_vertices = set(graph.keys()).copy()\n",
    "    connected_components = []\n",
    "    while remaining_vertices:\n",
    "        source = next(iter(remaining_vertices))\n",
    "        cc = visit(graph,source)\n",
    "        connected_components.append(cc)\n",
    "        for u in cc:\n",
    "            remaining_vertices.remove(u)\n",
    "    return connected_components"
   ]
  },
  {
   "cell_type": "markdown",
   "id": "7f5fc3cf-6c32-49b0-a5b7-9b4e4e669456",
   "metadata": {},
   "source": [
    "#### 1.5.1 Connected components of 'toy_multipleCC' dataset\n",
    "<img src=\"./img/toy_multipleCC.png\" align=\"left\" width=\"60%\"/>"
   ]
  },
  {
   "cell_type": "code",
   "execution_count": 14,
   "id": "a8e7728b-7f87-4de1-82f2-b3b91612dae0",
   "metadata": {},
   "outputs": [
    {
     "name": "stdout",
     "output_type": "stream",
     "text": [
      "Connected components with BFS traversal: [[0, 1, 2, 3, 7, 4, 5, 6], [8, 9, 10, 13, 11, 12], [14, 17, 15, 16], [18, 19], [20, 21]]\n",
      "Connected components with DFS traversal: [[0, 2, 7, 4, 6, 5, 3, 1], [8, 10, 11, 13, 9, 12], [14, 15, 17, 16], [18, 19], [20, 21]]\n"
     ]
    }
   ],
   "source": [
    "graph_filename_toy_multipleCC = 'toy_multipleCC.csv'\n",
    "graph_path_toy_multipleCC = f'{data_dir}/{graph_filename_toy_multipleCC}'\n",
    "graph_toy_multipleCC = load_graph(graph_path_toy_multipleCC,sep,directed,header)\n",
    "\n",
    "connected_components_bfs = connected_components(graph_toy_multipleCC,bfs)\n",
    "print(\"Connected components with BFS traversal: \" + str(connected_components_bfs))\n",
    "\n",
    "connected_components_dfs = connected_components(graph_toy_multipleCC,dfs)\n",
    "print(\"Connected components with DFS traversal: \" + str(connected_components_dfs))"
   ]
  },
  {
   "cell_type": "markdown",
   "id": "4b26f672-ad12-431c-a58a-8115cf134063",
   "metadata": {},
   "source": [
    "# 2. Graph traversal with [`NetworkX`](https://networkx.org/)"
   ]
  },
  {
   "cell_type": "code",
   "execution_count": 15,
   "id": "82d892b9-0dc3-4bf1-abe7-934d821e63fc",
   "metadata": {},
   "outputs": [],
   "source": [
    "import networkx as nx"
   ]
  },
  {
   "cell_type": "markdown",
   "id": "0afb48de-869e-4edb-b60d-264bf34b1381",
   "metadata": {},
   "source": [
    "### 2.1 Data loading"
   ]
  },
  {
   "cell_type": "code",
   "execution_count": 16,
   "id": "2df2e935-c4aa-4e8a-af6a-7b744c85303e",
   "metadata": {},
   "outputs": [],
   "source": [
    "def load_graph_nx(graph_path,sep,directed,header):\n",
    "    graph_type = nx.DiGraph if directed else nx.Graph\n",
    "    with open(graph_path, 'rb') as f:\n",
    "        if header:\n",
    "            next(f, '') # skip header line\n",
    "        G = nx.read_adjlist(f, delimiter=sep, create_using=graph_type, nodetype=int)\n",
    "    return G"
   ]
  },
  {
   "cell_type": "markdown",
   "id": "84e44fd8-63db-4605-a7b4-04e8943590fd",
   "metadata": {},
   "source": [
    "### 2.2 DFS on 'toy' dataset\n",
    "<img src=\"./img/toy.png\" align=\"left\" width=\"35%\"/>"
   ]
  },
  {
   "cell_type": "code",
   "execution_count": 17,
   "id": "11074e24-265f-4d0d-9a24-18783bc3fa06",
   "metadata": {},
   "outputs": [
    {
     "name": "stdout",
     "output_type": "stream",
     "text": [
      "DFS (with NetworkX) from source vertex 0: [0, 1, 2, 3, 4, 5, 6, 7]\n",
      "DFS (with NetworkX) from source vertex 3: [3, 1, 0, 2, 7, 4, 5, 6]\n",
      "DFS (with NetworkX) from source vertex 7: [7, 2, 0, 1, 3, 4, 5, 6]\n"
     ]
    }
   ],
   "source": [
    "graph_filename_toy = 'toy.csv'\n",
    "graph_path_toy = f'{data_dir}/{graph_filename_toy}'\n",
    "graph_nx_toy = load_graph_nx(graph_path_toy,sep,directed,header)\n",
    "L0_nx = list(nx.dfs_preorder_nodes(graph_nx_toy, source=0)) # list of the vertices in the order that they were first visited by DFS\n",
    "L3_nx = list(nx.dfs_preorder_nodes(graph_nx_toy, source=3)) # list of the vertices in the order that they were first visited by DFS\n",
    "L7_nx = list(nx.dfs_preorder_nodes(graph_nx_toy, source=7)) # list of the vertices in the order that they were first visited by DFS\n",
    "print(\"DFS (with NetworkX) from source vertex 0: \" + str(L0_nx))\n",
    "print(\"DFS (with NetworkX) from source vertex 3: \" + str(L3_nx))\n",
    "print(\"DFS (with NetworkX) from source vertex 7: \" + str(L7_nx))"
   ]
  },
  {
   "cell_type": "markdown",
   "id": "b48e0f57-afb0-45be-9ce6-98b333272afa",
   "metadata": {},
   "source": [
    "### 2.3 BFS on 'toy' dataset\n",
    "<img src=\"./img/toy.png\" align=\"left\" width=\"35%\"/>"
   ]
  },
  {
   "cell_type": "code",
   "execution_count": 18,
   "id": "debad410-ffbc-476b-b585-bc61ee489136",
   "metadata": {},
   "outputs": [
    {
     "name": "stdout",
     "output_type": "stream",
     "text": [
      "BFS layers (with NetworkX) from source vertex 0: [[0], [1, 2], [3, 7], [4, 5], [6]]\n",
      "BFS layers (with NetworkX) from source vertex 3: [[3], [1, 2, 4, 5], [0, 7, 6]]\n",
      "BFS layers (with NetworkX) from source vertex 7: [[7], [2, 4], [0, 1, 3, 5, 6]]\n"
     ]
    }
   ],
   "source": [
    "bfs_layers_nx_0 = list(nx.bfs_layers(graph_nx_toy, sources=0))\n",
    "bfs_layers_nx_3 = list(nx.bfs_layers(graph_nx_toy, sources=3))\n",
    "bfs_layers_nx_7 = list(nx.bfs_layers(graph_nx_toy, sources=7))\n",
    "print(\"BFS layers (with NetworkX) from source vertex 0: \" + str(bfs_layers_nx_0))\n",
    "print(\"BFS layers (with NetworkX) from source vertex 3: \" + str(bfs_layers_nx_3))\n",
    "print(\"BFS layers (with NetworkX) from source vertex 7: \" + str(bfs_layers_nx_7))"
   ]
  },
  {
   "cell_type": "code",
   "execution_count": 19,
   "id": "f339f0bc-6a97-4c17-bff1-4d325b4bf9e6",
   "metadata": {},
   "outputs": [
    {
     "name": "stdout",
     "output_type": "stream",
     "text": [
      "BFS (with NetworkX) from source vertex 0: [0, 1, 2, 3, 7, 4, 5, 6]\n",
      "BFS (with NetworkX) from source vertex 3: [3, 1, 2, 4, 5, 0, 7, 6]\n",
      "BFS (with NetworkX) from source vertex 7: [7, 2, 4, 0, 1, 3, 5, 6]\n"
     ]
    }
   ],
   "source": [
    "# just flattening 'bfs_layers'\n",
    "bfs_ordering_nx_0 = [x for y in bfs_layers_nx_0 for x in y]\n",
    "bfs_ordering_nx_3 = [x for y in bfs_layers_nx_3 for x in y]\n",
    "bfs_ordering_nx_7 = [x for y in bfs_layers_nx_7 for x in y]\n",
    "print(\"BFS (with NetworkX) from source vertex 0: \" + str(bfs_ordering_nx_0)) #0 1 2 3 7 4 5 6\n",
    "print(\"BFS (with NetworkX) from source vertex 3: \" + str(bfs_ordering_nx_3)) #3 1 2 4 5 0 7 6\n",
    "print(\"BFS (with NetworkX) from source vertex 7: \" + str(bfs_ordering_nx_7)) #7 2 4 0 1 3 5 6"
   ]
  },
  {
   "cell_type": "markdown",
   "id": "cdbbee72-e9a3-497b-9379-6532b7485e6c",
   "metadata": {},
   "source": [
    "### 2.4 Connected components of 'toy_multipleCC' dataset\n",
    "<img src=\"./img/toy_multipleCC.png\" align=\"left\" width=\"60%\"/>"
   ]
  },
  {
   "cell_type": "code",
   "execution_count": 20,
   "id": "cbfcab49-b058-44e7-b0d9-f290c53dc02b",
   "metadata": {},
   "outputs": [
    {
     "name": "stdout",
     "output_type": "stream",
     "text": [
      "Connected components with NetworkX: [{0, 1, 2, 3, 4, 5, 6, 7}, {8, 9, 10, 11, 12, 13}, {16, 17, 14, 15}, {18, 19}, {20, 21}]\n"
     ]
    }
   ],
   "source": [
    "graph_filename_toy_multipleCC = 'toy_multipleCC.csv'\n",
    "graph_path_toy_multipleCC = f'{data_dir}/{graph_filename_toy_multipleCC}'\n",
    "graph_nx_toy_multipleCC = load_graph_nx(graph_path_toy_multipleCC,sep,directed,header)\n",
    "\n",
    "connected_components_nx = nx.connected_components(graph_nx_toy_multipleCC)\n",
    "print(\"Connected components with NetworkX: \" + str(list(connected_components_nx)))"
   ]
  },
  {
   "cell_type": "code",
   "execution_count": null,
   "id": "59d569ae-210a-4aae-938b-6a7fbe2e1a3a",
   "metadata": {},
   "outputs": [],
   "source": []
  }
 ],
 "metadata": {
  "kernelspec": {
   "display_name": "Python 3 (ipykernel)",
   "language": "python",
   "name": "python3"
  },
  "language_info": {
   "codemirror_mode": {
    "name": "ipython",
    "version": 3
   },
   "file_extension": ".py",
   "mimetype": "text/x-python",
   "name": "python",
   "nbconvert_exporter": "python",
   "pygments_lexer": "ipython3",
   "version": "3.12.8"
  }
 },
 "nbformat": 4,
 "nbformat_minor": 5
}
