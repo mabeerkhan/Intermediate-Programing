{
 "cells": [
  {
   "cell_type": "markdown",
   "id": "500bcf81-2f94-4564-9316-8e7959a7111a",
   "metadata": {},
   "source": [
    "# 0. Configuration\n",
    "\n",
    "We use the ``Euroroads`` dataset, a graph representing the international E-road network, a road network located mostly in Europe.\n",
    "\n",
    "Vertices represent cities and an edge between two vertices denotes that they are connected by an E-road.\n",
    "\n",
    "It has 1,174 vertices and 1,417 edges.\n",
    "\n",
    "It is undirected and unweighted (we are going to add edge weights on it, by computing distances among cities; see below).\n",
    "\n",
    "The dataset is publicly available [here](http://konect.cc/networks/subelj_euroroad/) (from the [``KONECT``](http://konect.cc/) network data repository)."
   ]
  },
  {
   "cell_type": "code",
   "execution_count": 1,
   "id": "ff67e96d-7af3-4a2e-b0bf-d3bbbb88c406",
   "metadata": {},
   "outputs": [],
   "source": [
    "data_dir = 'data/euroroads'\n",
    "\n",
    "graph_filename = 'out.subelj_euroroad_euroroad'\n",
    "graph_path = f'{data_dir}/{graph_filename}'\n",
    "sep = ' '\n",
    "directed = False\n",
    "header = True\n",
    "\n",
    "metadata_filename = 'ent.subelj_euroroad_euroroad.city.name'\n",
    "metadata_path = f'{data_dir}/{metadata_filename}'"
   ]
  },
  {
   "cell_type": "code",
   "execution_count": 2,
   "id": "fb276e4e-55b0-4d25-8911-e6109e763e1e",
   "metadata": {},
   "outputs": [],
   "source": [
    "import time\n",
    "from collections import defaultdict\n",
    "import networkx as nx"
   ]
  },
  {
   "cell_type": "markdown",
   "id": "441323df-30f9-4742-ba93-ce77426f13e5",
   "metadata": {},
   "source": [
    "# 1. Case study on shortest path discovery"
   ]
  },
  {
   "cell_type": "markdown",
   "id": "5aa56869-5823-4629-ad35-28d258c5fa98",
   "metadata": {},
   "source": [
    "### 1.1 Data loading"
   ]
  },
  {
   "cell_type": "code",
   "execution_count": 3,
   "id": "6a062a60-a028-408f-b2b8-f12b63dece7b",
   "metadata": {},
   "outputs": [],
   "source": [
    "def load_metadata(metadata_path):\n",
    "    with open(metadata_path, encoding='utf8') as f:\n",
    "        id2cityname = defaultdict(int)\n",
    "        cityname2id = defaultdict(str)\n",
    "        id = 1\n",
    "        for c in f.readlines():\n",
    "            id2cityname[id] = c.strip().lower()\n",
    "            cityname2id[c.strip().lower()] = id\n",
    "            id += 1\n",
    "        f.close()\n",
    "    return id2cityname, cityname2id\n",
    "\n",
    "def load_graph_nx(graph_path,sep,directed,header):\n",
    "    graph_type = nx.DiGraph if directed else nx.Graph\n",
    "    with open(graph_path, 'rb') as f:\n",
    "        if header:\n",
    "            next(f, '')\n",
    "            next(f, '') # skip 2 header lines\n",
    "        G = nx.read_adjlist(f, delimiter=sep, create_using=graph_type, nodetype=int)\n",
    "        f.close()\n",
    "    return G"
   ]
  },
  {
   "cell_type": "code",
   "execution_count": 4,
   "id": "73ab8053-c109-4bc9-939b-ef91b1971ccd",
   "metadata": {},
   "outputs": [],
   "source": [
    "id2cityname, cityname2id = load_metadata(metadata_path)"
   ]
  },
  {
   "cell_type": "markdown",
   "id": "1a6da0d1-1296-48b5-a23f-2f847f635f59",
   "metadata": {},
   "source": [
    "### 1.2 Getting latitude-longitude coordinates for cities\n",
    "We use the [``GeoPy``](https://geopy.readthedocs.io/) Python package for this (latest version as of Mar 2024: 2.4.1).\n",
    "\n",
    "In particular, the open-source geocoding API provided by the [``Nominatim``](https://nominatim.org/) tool, which uses ``OpenStreetMap`` data to find locations on Earth by name and address. "
   ]
  },
  {
   "cell_type": "code",
   "execution_count": 5,
   "id": "f6a2fd82-8d02-40f1-b7f7-c7f3530014ee",
   "metadata": {},
   "outputs": [],
   "source": [
    "#!pip install geopy #installing geopy package (latest version as of Mar 2025: 2.4.1)"
   ]
  },
  {
   "cell_type": "code",
   "execution_count": 6,
   "id": "c336461b-a57f-4b1b-adb4-15f59c036ff2",
   "metadata": {},
   "outputs": [],
   "source": [
    "import geopy\n",
    "from geopy.geocoders import Nominatim\n",
    "\n",
    "import certifi, ssl"
   ]
  },
  {
   "cell_type": "code",
   "execution_count": 7,
   "id": "158e670c-fa70-4684-9128-71bef4c09f21",
   "metadata": {},
   "outputs": [],
   "source": [
    "def compute_latitude_longitude(citynames):\n",
    "    ctx = ssl.create_default_context(cafile=certifi.where())\n",
    "    geopy.geocoders.options.default_ssl_context = ctx\n",
    "    geolocator = Nominatim(user_agent= 'MyApp') #initializing the Nominatim API\n",
    "    city2latlong = {} #output dictionary storing latitude-longitude coordinates of cities\n",
    "    for city in citynames:\n",
    "        city_location = geolocator.geocode(city, timeout=1000)\n",
    "        if city_location:\n",
    "           city2latlong[city] = (city_location.latitude, city_location.longitude)\n",
    "        else:\n",
    "            print('No geolocation found for city ' + city)\n",
    "            city2latlong[city] = (None, None)\n",
    "    return city2latlong\n",
    "\n",
    "def dump_geolocation(city2latlong, geolocation_path):\n",
    "    with open(geolocation_path, 'w', encoding='utf8') as output:\n",
    "        output.write('CITY' + '\\t' + 'LATITUDE' + '\\t' + 'LONGITUDE')\n",
    "        for c in city2latlong.keys():\n",
    "            lat_long = city2latlong[c] \n",
    "            s = c.lower() + '\\t' + str(lat_long[0]) + '\\t' + str(lat_long[1])\n",
    "            output.write('\\n' + s)\n",
    "        output.close()\n",
    "\n",
    "def load_latitude_longitude(geolocation_path):\n",
    "    with open(geolocation_path, encoding='utf8') as f:\n",
    "        city2latlong = {}\n",
    "        for line in f.readlines()[1:]:\n",
    "            tokens = line.split('\\t')\n",
    "            city, latitude, longitude = tokens[0], tokens[1], tokens[2]\n",
    "            if latitude != 'None' and longitude != 'None':\n",
    "                city2latlong[city.lower()] = (float(latitude), float(longitude))\n",
    "            else:\n",
    "                city2latlong[city.lower()] = (None, None)\n",
    "        f.close()\n",
    "    return city2latlong"
   ]
  },
  {
   "cell_type": "code",
   "execution_count": 9,
   "id": "4a399589-7e72-4d67-b201-6102d50685b8",
   "metadata": {},
   "outputs": [
    {
     "name": "stdout",
     "output_type": "stream",
     "text": [
      "No geolocation found for city gotthard pass\n",
      "No geolocation found for city zhetybai\n",
      "No geolocation found for city burubaytal\n",
      "No geolocation found for city maikapshagai\n",
      "No geolocation found for city jirgatal\n",
      "No geolocation found for city kristiansund mainland connection\n",
      "No geolocation found for city karavanke tunnel\n",
      "No geolocation found for city tolpaki\n",
      "No geolocation found for city kristalopigi\n",
      "No geolocation found for city mehgri\n",
      "No geolocation found for city djulfa\n",
      "No geolocation found for city kzylorda\n",
      "No geolocation found for city kalaikhumb\n",
      "No geolocation found for city chundzha\n",
      "No geolocation found for city bakhty\n",
      "No geolocation found for city glukhkov\n",
      "No geolocation found for city djoubga\n",
      "No geolocation found for city torniyiszentmiklós\n"
     ]
    }
   ],
   "source": [
    "# city2latlong = compute_latitude_longitude(cityname2id.keys())"
   ]
  },
  {
   "cell_type": "code",
   "execution_count": 8,
   "id": "668f2221-dd3f-42ef-8ba6-9c6ba4516282",
   "metadata": {},
   "outputs": [],
   "source": [
    "geolocation_filename = 'city.name.geolocation'\n",
    "geolocation_path = f'{data_dir}/{geolocation_filename}'"
   ]
  },
  {
   "cell_type": "code",
   "execution_count": 9,
   "id": "ec56f211-f784-4d22-9675-294285dfbbcd",
   "metadata": {},
   "outputs": [],
   "source": [
    "# dump_geolocation(city2latlong, geolocation_path)"
   ]
  },
  {
   "cell_type": "code",
   "execution_count": 10,
   "id": "56ce7b4c-db1f-4967-a536-18131391148d",
   "metadata": {
    "scrolled": true
   },
   "outputs": [],
   "source": [
    "city2latlong = load_latitude_longitude(geolocation_path)"
   ]
  },
  {
   "cell_type": "markdown",
   "id": "df7ec012-f020-4a36-b85b-a274b9f89e4d",
   "metadata": {},
   "source": [
    "### 1.3 Loading road network and computing distances among cities"
   ]
  },
  {
   "cell_type": "code",
   "execution_count": 11,
   "id": "20c85a0c-dc35-4338-b64e-a89b64bb65c4",
   "metadata": {},
   "outputs": [],
   "source": [
    "from geopy.distance import geodesic as GD"
   ]
  },
  {
   "cell_type": "code",
   "execution_count": 12,
   "id": "4d1eb315-0230-4a50-9216-9fd1092317b5",
   "metadata": {},
   "outputs": [
    {
     "data": {
      "text/plain": [
       "(1174, 1417)"
      ]
     },
     "execution_count": 12,
     "metadata": {},
     "output_type": "execute_result"
    }
   ],
   "source": [
    "graph = load_graph_nx(graph_path,sep,directed,header)\n",
    "graph.number_of_nodes(), graph.number_of_edges()"
   ]
  },
  {
   "cell_type": "code",
   "execution_count": 13,
   "id": "157260fe-20c4-4572-a18f-fbd8e856a59e",
   "metadata": {},
   "outputs": [
    {
     "data": {
      "text/plain": [
       "(1156, 1386)"
      ]
     },
     "execution_count": 13,
     "metadata": {},
     "output_type": "execute_result"
    }
   ],
   "source": [
    "#getting subgraph induced by cities with latitude-longitude coordinates assigned\n",
    "valid_cities = [cityname2id[city] for city in city2latlong.keys() if city2latlong[city][0] and city2latlong[city][1]]\n",
    "\n",
    "subgraph = graph.subgraph(valid_cities)\n",
    "subgraph.number_of_nodes(), subgraph.number_of_edges()"
   ]
  },
  {
   "cell_type": "code",
   "execution_count": 14,
   "id": "bc698466-9f7a-492e-b72f-035fc2933c3c",
   "metadata": {},
   "outputs": [],
   "source": [
    "#computing distances among cities and adding them as edge weights\n",
    "edge2weight = {}\n",
    "for e in subgraph.edges():\n",
    "    u, v = e[0], e[1]\n",
    "    city1 = id2cityname[u]\n",
    "    city2 = id2cityname[v]\n",
    "    d = GD(city2latlong[city1], city2latlong[city2]).km\n",
    "    edge2weight[e] = d\n",
    "\n",
    "nx.set_edge_attributes(subgraph, values = edge2weight, name = 'weight')"
   ]
  },
  {
   "cell_type": "code",
   "execution_count": 15,
   "id": "676160d2-245e-46d2-b499-b54094461212",
   "metadata": {},
   "outputs": [
    {
     "data": {
      "text/plain": [
       "(401.59859649457826, 401.59859649457826)"
      ]
     },
     "execution_count": 15,
     "metadata": {},
     "output_type": "execute_result"
    }
   ],
   "source": [
    "#sanity check\n",
    "d1 = GD(city2latlong['rome'] , city2latlong['genoa']).km\n",
    "d2 = subgraph.edges()[cityname2id['rome'],cityname2id['genoa']]['weight']\n",
    "d1, d2"
   ]
  },
  {
   "cell_type": "markdown",
   "id": "8b0b75b7-6b6d-41bb-b1cf-f0b88a8ea107",
   "metadata": {},
   "source": [
    "### 1.4 Computing shortest paths\n",
    "\n",
    "See [here](https://networkx.org/documentation/stable/reference/algorithms/shortest_paths.html), [here](https://networkx.org/documentation/stable/reference/algorithms/generated/networkx.algorithms.shortest_paths.generic.shortest_path.html#networkx.algorithms.shortest_paths.generic.shortest_path) and [here](https://networkx.org/documentation/stable/reference/algorithms/generated/networkx.algorithms.shortest_paths.generic.shortest_path_length.html#networkx.algorithms.shortest_paths.generic.shortest_path_length) for documentation."
   ]
  },
  {
   "cell_type": "code",
   "execution_count": 16,
   "id": "3d714ff4-5636-48dd-aff6-33ef9883380f",
   "metadata": {},
   "outputs": [],
   "source": [
    "# auxiliary function to convert a path into a string\n",
    "def path2str(path,id2cityname):\n",
    "    s = id2cityname[path[0]]\n",
    "    for i in range(1,len(path)):\n",
    "        s += ' -> ' + id2cityname[path[i]]\n",
    "    return s"
   ]
  },
  {
   "cell_type": "markdown",
   "id": "7dc4d26b-a4b5-4044-9d0f-d9f3c3701199",
   "metadata": {},
   "source": [
    "#### 1.4.1 Single-Pair Shortest Path (SPSP)"
   ]
  },
  {
   "cell_type": "code",
   "execution_count": 17,
   "id": "fea76f70-3da2-422e-be14-59d8b275e595",
   "metadata": {
    "scrolled": true
   },
   "outputs": [
    {
     "name": "stdout",
     "output_type": "stream",
     "text": [
      "\n",
      "rome -> genoa, TOTAL DISTANCE: 401.59859649457826\n",
      "rome -> genoa -> nice -> toulouse -> barcelona, TOTAL DISTANCE: 1280.322572768997\n",
      "rome -> pescara -> canosa di puglia -> bari, TOTAL DISTANCE: 411.15154776726297\n",
      "barcelona -> toulouse -> nice -> cuneo -> asti -> alessandria -> tortona -> brescia -> verona -> mestre -> palmanova -> trieste -> ljubljana -> zagreb -> slavonski brod -> belgrade, TOTAL DISTANCE: 1945.3350500534987\n",
      "barcelona -> toulouse -> orléans -> tours -> angers -> nantes, TOTAL DISTANCE: 1015.9958226507174\n",
      "\n",
      "rome -> genoa, TOTAL DISTANCE: 401.59859649457826\n",
      "rome -> genoa -> nice -> toulouse -> barcelona, TOTAL DISTANCE: 1280.322572768997\n",
      "rome -> pescara -> canosa di puglia -> bari, TOTAL DISTANCE: 411.15154776726297\n",
      "barcelona -> toulouse -> nice -> cuneo -> asti -> alessandria -> tortona -> brescia -> verona -> mestre -> palmanova -> trieste -> ljubljana -> zagreb -> slavonski brod -> belgrade, TOTAL DISTANCE: 1945.3350500534987\n",
      "barcelona -> toulouse -> orléans -> tours -> angers -> nantes, TOTAL DISTANCE: 1015.9958226507174\n",
      "\n",
      "rome -> genoa, LENGTH: 1\n",
      "rome -> genoa -> nice -> toulouse -> barcelona, LENGTH: 4\n",
      "rome -> pescara -> canosa di puglia -> bari, LENGTH: 3\n",
      "barcelona -> toulouse -> nice -> genoa -> tortona -> brescia -> verona -> mestre -> palmanova -> trieste -> ljubljana -> zagreb -> slavonski brod -> belgrade, LENGTH: 13\n",
      "barcelona -> toulouse -> orléans -> tours -> angers -> nantes, LENGTH: 5\n"
     ]
    }
   ],
   "source": [
    "sp1 = nx.shortest_path(subgraph, source=cityname2id['rome'], target=cityname2id['genoa'], weight='weight', method='dijkstra')\n",
    "sp1_weight = nx.path_weight(subgraph, sp1, weight='weight')\n",
    "sp2 = nx.shortest_path(subgraph, source=cityname2id['rome'], target=cityname2id['barcelona'], weight='weight', method='dijkstra')\n",
    "sp2_weight = nx.path_weight(subgraph, sp2, weight='weight')\n",
    "sp3 = nx.shortest_path(subgraph, source=cityname2id['rome'], target=cityname2id['bari'], weight='weight', method='dijkstra')\n",
    "sp3_weight = nx.path_weight(subgraph, sp3, weight='weight')\n",
    "sp4 = nx.shortest_path(subgraph, source=cityname2id['barcelona'], target=cityname2id['belgrade'], weight='weight', method='dijkstra')\n",
    "sp4_weight = nx.path_weight(subgraph, sp4, weight='weight')\n",
    "sp5 = nx.shortest_path(subgraph, source=cityname2id['barcelona'], target=cityname2id['nantes'], weight='weight', method='dijkstra')\n",
    "sp5_weight = nx.path_weight(subgraph, sp5, weight='weight')\n",
    "\n",
    "sp1_bf = nx.shortest_path(subgraph, source=cityname2id['rome'], target=cityname2id['genoa'], weight='weight', method='bellman-ford')\n",
    "sp1_bf_weight = nx.path_weight(subgraph, sp1_bf, weight='weight')\n",
    "sp2_bf = nx.shortest_path(subgraph, source=cityname2id['rome'], target=cityname2id['barcelona'], weight='weight', method='bellman-ford')\n",
    "sp2_bf_weight = nx.path_weight(subgraph, sp2_bf, weight='weight')\n",
    "sp3_bf = nx.shortest_path(subgraph, source=cityname2id['rome'], target=cityname2id['bari'], weight='weight', method='bellman-ford')\n",
    "sp3_bf_weight = nx.path_weight(subgraph, sp3_bf, weight='weight')\n",
    "sp4_bf = nx.shortest_path(subgraph, source=cityname2id['barcelona'], target=cityname2id['belgrade'], weight='weight', method='bellman-ford')\n",
    "sp4_bf_weight = nx.path_weight(subgraph, sp4_bf, weight='weight')\n",
    "sp5_bf = nx.shortest_path(subgraph, source=cityname2id['barcelona'], target=cityname2id['nantes'], weight='weight', method='bellman-ford')\n",
    "sp5_bf_weight = nx.path_weight(subgraph, sp5_bf, weight='weight')\n",
    "\n",
    "sp1_noweight = nx.shortest_path(subgraph, source=cityname2id['rome'], target=cityname2id['genoa'], weight=None, method='dijkstra')\n",
    "sp2_noweight = nx.shortest_path(subgraph, source=cityname2id['rome'], target=cityname2id['barcelona'], weight=None, method='dijkstra')\n",
    "sp3_noweight = nx.shortest_path(subgraph, source=cityname2id['rome'], target=cityname2id['bari'], weight=None, method='dijkstra')\n",
    "sp4_noweight = nx.shortest_path(subgraph, source=cityname2id['barcelona'], target=cityname2id['belgrade'], weight=None, method='dijkstra')\n",
    "sp5_noweight = nx.shortest_path(subgraph, source=cityname2id['barcelona'], target=cityname2id['nantes'], weight=None, method='dijkstra')\n",
    "\n",
    "print()\n",
    "print(path2str(sp1,id2cityname) + ', TOTAL DISTANCE: ' + str(sp1_weight))\n",
    "print(path2str(sp2,id2cityname) + ', TOTAL DISTANCE: ' + str(sp2_weight))\n",
    "print(path2str(sp3,id2cityname) + ', TOTAL DISTANCE: ' + str(sp3_weight))\n",
    "print(path2str(sp4,id2cityname) + ', TOTAL DISTANCE: ' + str(sp4_weight))\n",
    "print(path2str(sp5,id2cityname) + ', TOTAL DISTANCE: ' + str(sp5_weight))\n",
    "\n",
    "print()\n",
    "print(path2str(sp1_bf,id2cityname) + ', TOTAL DISTANCE: ' + str(sp1_bf_weight))\n",
    "print(path2str(sp2_bf,id2cityname) + ', TOTAL DISTANCE: ' + str(sp2_bf_weight))\n",
    "print(path2str(sp3_bf,id2cityname) + ', TOTAL DISTANCE: ' + str(sp3_bf_weight))\n",
    "print(path2str(sp4_bf,id2cityname) + ', TOTAL DISTANCE: ' + str(sp4_bf_weight))\n",
    "print(path2str(sp5_bf,id2cityname) + ', TOTAL DISTANCE: ' + str(sp5_bf_weight))\n",
    "\n",
    "print()\n",
    "print(path2str(sp1_noweight,id2cityname) + ', LENGTH: ' + str(len(sp1_noweight)-1))\n",
    "print(path2str(sp2_noweight,id2cityname) + ', LENGTH: ' + str(len(sp2_noweight)-1))\n",
    "print(path2str(sp3_noweight,id2cityname) + ', LENGTH: ' + str(len(sp3_noweight)-1))\n",
    "print(path2str(sp4_noweight,id2cityname) + ', LENGTH: ' + str(len(sp4_noweight)-1))\n",
    "print(path2str(sp5_noweight,id2cityname) + ', LENGTH: ' + str(len(sp5_noweight)-1))"
   ]
  },
  {
   "cell_type": "code",
   "execution_count": 18,
   "id": "ee4eeefb-5af5-489d-abc8-2ecc01f3c432",
   "metadata": {},
   "outputs": [
    {
     "name": "stdout",
     "output_type": "stream",
     "text": [
      "barcelona -> toulouse -> nice -> genoa -> tortona -> brescia -> verona -> mestre -> palmanova -> trieste -> ljubljana -> zagreb -> slavonski brod -> belgrade, TOTAL DISTANCE: 1947.53303969286\n"
     ]
    }
   ],
   "source": [
    "print(path2str(sp4_noweight,id2cityname) + ', TOTAL DISTANCE: ' + str(nx.path_weight(subgraph, sp4_noweight, weight='weight')))"
   ]
  },
  {
   "cell_type": "markdown",
   "id": "bf2257a1-928f-44e9-81d8-43ea7cf88661",
   "metadata": {},
   "source": [
    "#### 1.4.2 All-Pair Shortest Path (APSP)"
   ]
  },
  {
   "cell_type": "code",
   "execution_count": 19,
   "id": "91b55328-9e44-4b3d-8f08-21af5b2b2213",
   "metadata": {},
   "outputs": [
    {
     "data": {
      "text/plain": [
       "(89, 111)"
      ]
     },
     "execution_count": 19,
     "metadata": {},
     "output_type": "execute_result"
    }
   ],
   "source": [
    "k = 5\n",
    "subgraph_small = nx.ego_graph(subgraph, cityname2id['barcelona'], radius=k) #subgraph induced by k-hop neighborhood of 'barcelona' \n",
    "subgraph_small.number_of_nodes(), subgraph_small.number_of_edges()"
   ]
  },
  {
   "cell_type": "code",
   "execution_count": 20,
   "id": "1f2f0808-5656-4b1c-a67c-5142d2b2ddd6",
   "metadata": {},
   "outputs": [
    {
     "data": {
      "text/plain": [
       "['le havre',\n",
       " 'paris',\n",
       " 'orléans',\n",
       " 'bordeaux',\n",
       " 'san sebastián',\n",
       " 'burgos',\n",
       " 'madrid',\n",
       " 'seville',\n",
       " 'algeciras',\n",
       " 'calais',\n",
       " 'a coruña',\n",
       " 'lyon',\n",
       " 'orange',\n",
       " 'chambéry',\n",
       " 'narbonne',\n",
       " 'girona',\n",
       " 'barcelona',\n",
       " 'tarragona',\n",
       " 'castellón de la plana',\n",
       " 'valencia',\n",
       " 'alicante',\n",
       " 'clermont-ferrand',\n",
       " 'málaga',\n",
       " 'murcia',\n",
       " 'tortona',\n",
       " 'almería',\n",
       " 'brescia',\n",
       " 'metz',\n",
       " 'mulhouse',\n",
       " 'lisbon',\n",
       " 'valladolid',\n",
       " 'toulouse',\n",
       " 'nice',\n",
       " 'angoulême',\n",
       " 'saintes',\n",
       " 'limoges',\n",
       " \"pont-d'ain\",\n",
       " 'vercelli',\n",
       " 'alessandria',\n",
       " 'genoa',\n",
       " 'amsterdam',\n",
       " 'pontevedra',\n",
       " 'valença',\n",
       " 'porto',\n",
       " 'albufeira',\n",
       " 'castro marim',\n",
       " 'huelva',\n",
       " 'grenoble',\n",
       " 'marseille',\n",
       " 'rome',\n",
       " 'la rochelle',\n",
       " 'florence',\n",
       " 'milan',\n",
       " 'viseu',\n",
       " 'chaves',\n",
       " 'zaragoza',\n",
       " 'vierzon',\n",
       " 'montluçon',\n",
       " 'montpellier',\n",
       " 'salamanca',\n",
       " 'mérida',\n",
       " 'logroño',\n",
       " 'san cesareo',\n",
       " 'granada',\n",
       " 'bilbao',\n",
       " 'pescara',\n",
       " 'turin',\n",
       " 'charleroi',\n",
       " 'amiens',\n",
       " 'charleville-mézières',\n",
       " 'rouen',\n",
       " 'chaumont',\n",
       " 'cuneo',\n",
       " 'asti',\n",
       " 'vila real',\n",
       " 'bragança',\n",
       " 'bruges',\n",
       " 'ghent',\n",
       " 'brussels',\n",
       " 'leuven',\n",
       " 'rennes',\n",
       " 'le mans',\n",
       " 'reims',\n",
       " 'nantes',\n",
       " 'angers',\n",
       " 'tours',\n",
       " 'montargis',\n",
       " 'auxerre',\n",
       " 'beaune']"
      ]
     },
     "execution_count": 20,
     "metadata": {},
     "output_type": "execute_result"
    }
   ],
   "source": [
    "[id2cityname[i] for i in subgraph_small.nodes()]"
   ]
  },
  {
   "cell_type": "code",
   "execution_count": 21,
   "id": "1776a24a-2b19-4297-877b-cd9a10804c38",
   "metadata": {},
   "outputs": [
    {
     "name": "stdout",
     "output_type": "stream",
     "text": [
      "Runtime for Dijkstra-based APSP: 23 ms\n"
     ]
    },
    {
     "name": "stderr",
     "output_type": "stream",
     "text": [
      "<class 'networkx.utils.decorators.argmap'> compilation 22:3: FutureWarning: \n",
      "\n",
      "shortest_path will return an iterator that yields\n",
      "(node, path) pairs instead of a dictionary when source\n",
      "and target are unspecified beginning in version 3.5\n",
      "\n",
      "To keep the current behavior, use:\n",
      "\n",
      "\tdict(nx.shortest_path(G))\n"
     ]
    }
   ],
   "source": [
    "#APSP - Dijkstra\n",
    "start = time.time()\n",
    "apsp_dijkstra = nx.shortest_path(subgraph_small, source=None, target=None, weight='weight', method='dijkstra')\n",
    "end = time.time()\n",
    "runtime = int(round((end-start)*1000))\n",
    "print(\"Runtime for Dijkstra-based APSP: \" + str(runtime) + \" ms\")"
   ]
  },
  {
   "cell_type": "code",
   "execution_count": 22,
   "id": "adbaba5c-ef0c-4127-8996-0f0eb9a64e70",
   "metadata": {},
   "outputs": [
    {
     "name": "stdout",
     "output_type": "stream",
     "text": [
      "Runtime for Bellman-Ford-based APSP: 96 ms\n"
     ]
    }
   ],
   "source": [
    "#APSP - Bellman-Ford\n",
    "start = time.time()\n",
    "apsp_bellmanford = nx.shortest_path(subgraph_small, source=None, target=None, weight='weight', method='bellman-ford')\n",
    "end = time.time()\n",
    "runtime = int(round((end-start)*1000))\n",
    "print(\"Runtime for Bellman-Ford-based APSP: \" + str(runtime) + \" ms\")"
   ]
  },
  {
   "cell_type": "code",
   "execution_count": 23,
   "id": "16dc35bb-10fc-4bf1-9e3d-5f9e212ec132",
   "metadata": {},
   "outputs": [
    {
     "name": "stdout",
     "output_type": "stream",
     "text": [
      "Runtime for Floyd-Warshall-based APSP: 77 ms\n"
     ]
    }
   ],
   "source": [
    "#APSP - Floyd-Warshall\n",
    "start = time.time()\n",
    "apsp_floydwarshall = nx.floyd_warshall(subgraph_small, weight='weight')\n",
    "end = time.time()\n",
    "runtime = int(round((end-start)*1000))\n",
    "print(\"Runtime for Floyd-Warshall-based APSP: \" + str(runtime) + \" ms\")"
   ]
  },
  {
   "cell_type": "code",
   "execution_count": 24,
   "id": "4dffc2a6-a886-4876-9838-928a52c2fe0b",
   "metadata": {},
   "outputs": [
    {
     "name": "stdout",
     "output_type": "stream",
     "text": [
      "DIJKSTRA: barcelona -> toulouse -> orléans -> tours -> angers -> nantes, TOTAL DISTANCE: 1015.9958226507174\n",
      "BELLMAN-FORD: barcelona -> toulouse -> orléans -> tours -> angers -> nantes, TOTAL DISTANCE: 1015.9958226507174\n"
     ]
    }
   ],
   "source": [
    "#SANITY CHECK\n",
    "print('DIJKSTRA: ' + path2str(apsp_dijkstra[cityname2id['barcelona']][cityname2id['nantes']],id2cityname) + ', TOTAL DISTANCE: ' + str(nx.path_weight(subgraph_small, apsp_dijkstra[cityname2id['barcelona']][cityname2id['nantes']], weight='weight')))\n",
    "print('BELLMAN-FORD: ' + path2str(apsp_bellmanford[cityname2id['barcelona']][cityname2id['nantes']],id2cityname) + ', TOTAL DISTANCE: ' + str(nx.path_weight(subgraph_small, apsp_bellmanford[cityname2id['barcelona']][cityname2id['nantes']], weight='weight')))"
   ]
  },
  {
   "cell_type": "code",
   "execution_count": null,
   "id": "af86f9ad-2dce-4117-95ad-15f66025ceb7",
   "metadata": {},
   "outputs": [],
   "source": []
  }
 ],
 "metadata": {
  "kernelspec": {
   "display_name": "Python 3 (ipykernel)",
   "language": "python",
   "name": "python3"
  },
  "language_info": {
   "codemirror_mode": {
    "name": "ipython",
    "version": 3
   },
   "file_extension": ".py",
   "mimetype": "text/x-python",
   "name": "python",
   "nbconvert_exporter": "python",
   "pygments_lexer": "ipython3",
   "version": "3.12.8"
  }
 },
 "nbformat": 4,
 "nbformat_minor": 5
}
